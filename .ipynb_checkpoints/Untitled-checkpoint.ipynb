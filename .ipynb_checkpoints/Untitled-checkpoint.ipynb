{
 "cells": [
  {
   "cell_type": "code",
   "execution_count": 19,
   "id": "3ec30273",
   "metadata": {},
   "outputs": [],
   "source": [
    "#!/usr/bin/env python\n",
    "# coding: utf-8\n",
    "\n",
    "# In[45]:\n",
    "\n",
    "\n",
    "import streamlit as st\n",
    "import tensorflow as tf\n",
    "\n",
    "# Load your model here\n",
    "loaded_model = tf.saved_model.load(\"model_dense_SaveModel_format\")\n",
    "\n",
    "# Customize Streamlit app appearance\n",
    "st.markdown(\n",
    "    '''\n",
    "    <style>\n",
    "    body {\n",
    "        background-image: url(\"https://www.crowdstrike.com/wp-content/uploads/2020/11/Blog_1060x698-25-1.jpg\");\n",
    "        background-size: cover;\n",
    "    }\n",
    "    </style>\n",
    "    ''',\n",
    "    unsafe_allow_html=True,\n",
    ")\n",
    "\n",
    "\n",
    "# Title\n",
    "st.title(\"Terror Attack Prediction\")\n",
    "\n",
    "# Define dropdown options for each feature\n",
    "attack_type_options = [\"Bombing\",\"Kidnapping\", \"Shooting\", \"Hijacking\", \"Arson\", \"Assasination\"]\n",
    "\n",
    "\n",
    "perpetrator_options = ['Group A', 'Group B', 'Group C', 'Group D', 'Group E', 'Group F', 'Group G',\n",
    "                       'Group H', 'Group I', 'Group J', 'Group K', 'Group L', 'Group M', 'Group N', \n",
    "                       'Group O', 'Group P', 'Group Q', 'Group R', 'Group S', 'Group T', 'Group U', \n",
    "                       'Group V', 'Group W', 'Group X', 'Group Y', 'Group Z']\n",
    "\n",
    "\n",
    "weapon_used_options = [\"Explosives\",\"Bladed Weapons\" \"Firearms\", \"Chemicals\",\"Meele\"]\n",
    "\n",
    "claimed_by_options = ['Group A', 'Group B', 'Group C', 'Group D', 'Group E', 'Group F', 'Group G',\n",
    "                      'Group H', 'Group I', 'Group J', 'Group K', 'Group L', 'Group M', 'Group N',\n",
    "                      'Group O', 'Group P', 'Group Q', 'Group R', 'Group S', 'Group T', 'Group U', \n",
    "                      'Group V', 'Group W', 'Group X', 'Group Y', 'Group Z']\n",
    "\n",
    "\n",
    "# Create dropdowns for each feature\n",
    "input1 = st.selectbox(\"Attack_Type:\", attack_type_options)\n",
    "input3 = st.selectbox(\"Perpetrator:\", perpetrator_options)\n",
    "input4 = st.selectbox(\"Weapon_Used:\", weapon_used_options)\n",
    "input5 = st.selectbox(\"Claimed_by:\", claimed_by_options)\n",
    "\n",
    "# Numeric input for Victims_Injured and Victims_Deceased\n",
    "input6 = st.number_input(\"Victims_Injured:\", min_value=0)\n",
    "input7 = st.number_input(\"Victims_Deceased:\", min_value=0)\n",
    "\n",
    "# Check if Victims_Injured and Victims_Deceased are provided\n",
    "if input6 > 0 or input7 > 0:\n",
    "    to_predict = [f'{input1} by {input3} with {input4} claimed by {input5}. {int(input6)} are injured and {int(input7)} are deceased']\n",
    "\n",
    "    # Create a TensorFlow constant with the input data\n",
    "    input_data = tf.constant(to_predict, dtype=tf.string)\n",
    "\n",
    "    # Add a Button for Prediction:\n",
    "    if st.button(\"Predict\"):\n",
    "        # Perform predictions using your model or algorithm\n",
    "        prediction = loaded_model([input_data])\n",
    "\n",
    "#         prediction = loaded_model(input_data)\n",
    "\n",
    "        # Determine the prediction result\n",
    "        if tf.round(prediction):\n",
    "            prediction = 'Major Attack'\n",
    "        else:\n",
    "            prediction = 'Minor Attack'\n",
    "\n",
    "        # Display the prediction result\n",
    "        st.write(\"Prediction:\", prediction)\n",
    "\n",
    "\n",
    "\n",
    "\n",
    "\n"
   ]
  },
  {
   "cell_type": "code",
   "execution_count": 21,
   "id": "741a01f2",
   "metadata": {},
   "outputs": [
    {
     "data": {
      "text/plain": [
       "<tf.Tensor: shape=(1, 1), dtype=float32, numpy=array([[0.69482124]], dtype=float32)>"
      ]
     },
     "execution_count": 21,
     "metadata": {},
     "output_type": "execute_result"
    }
   ],
   "source": [
    "# loaded_model([['Bombing by Gorup C with Explosives claimed by Group D. 10 are injured and 7 are deceased']])"
   ]
  },
  {
   "cell_type": "code",
   "execution_count": null,
   "id": "d61a19dc",
   "metadata": {},
   "outputs": [],
   "source": []
  }
 ],
 "metadata": {
  "kernelspec": {
   "display_name": "Python 3 (ipykernel)",
   "language": "python",
   "name": "python3"
  },
  "language_info": {
   "codemirror_mode": {
    "name": "ipython",
    "version": 3
   },
   "file_extension": ".py",
   "mimetype": "text/x-python",
   "name": "python",
   "nbconvert_exporter": "python",
   "pygments_lexer": "ipython3",
   "version": "3.10.9"
  }
 },
 "nbformat": 4,
 "nbformat_minor": 5
}
